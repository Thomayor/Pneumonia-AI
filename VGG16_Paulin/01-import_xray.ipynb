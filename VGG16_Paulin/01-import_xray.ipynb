{
 "cells": [
  {
   "cell_type": "code",
   "execution_count": 2,
   "id": "f3df9c25",
   "metadata": {},
   "outputs": [],
   "source": [
    "from tensorflow.keras.preprocessing.image import ImageDataGenerator\n",
    "from tensorflow.keras import layers, models\n",
    "from tensorflow.keras.applications import VGG16\n",
    "from sklearn.metrics import confusion_matrix, classification_report, roc_curve, auc\n",
    "import numpy as np\n",
    "import matplotlib.pyplot as plt\n",
    "from tensorflow.keras.models import load_model\n",
    "import tensorflow as tf\n",
    "import os\n",
    "from tensorflow.keras.preprocessing.image import load_img, img_to_array\n",
    "import random\n",
    "import pandas as pd\n",
    "import seaborn as sns\n",
    "import re"
   ]
  },
  {
   "cell_type": "markdown",
   "id": "f2d7ba86",
   "metadata": {},
   "source": [
    "## 1. Importation des Bibliothèques\n",
    "\n",
    "### 📚 Préparation et traitement d'images\n",
    "- **`ImageDataGenerator`** : Générateur d'images avec capacités d'augmentation de données\n",
    "- **`load_img, img_to_array`** : Fonctions pour charger et convertir les images\n",
    "\n",
    "### 🧠 Architecture et modélisation\n",
    "- **`layers, models`** : Composants de base pour construire les réseaux de neurones\n",
    "- **`VGG16`** : Modèle pré-entraîné utilisé pour le transfer learning\n",
    "- **`load_model`** : Fonction pour charger des modèles sauvegardés\n",
    "\n",
    "### 📊 Évaluation et métriques\n",
    "- **`confusion_matrix, classification_report`** : Métriques d'évaluation détaillées\n",
    "- **`roc_curve, auc`** : Courbe ROC et aire sous la courbe pour l'évaluation binaire\n",
    "\n",
    "### 📈 Visualisation et analyse\n",
    "- **`matplotlib.pyplot`** : Bibliothèque de visualisation pour les graphiques\n",
    "- **`seaborn`** : Visualisations statistiques avancées\n",
    "- **`pandas`** : Manipulation et analyse de données structurées\n",
    "\n",
    "### 🛠️ Utilitaires\n",
    "- **`numpy`** : Calculs numériques et manipulation d'arrays\n",
    "- **`tensorflow`** : Framework de deep learning\n",
    "- **`os`** : Interactions avec le système d'exploitation\n",
    "- **`random`** : Génération de nombres aléatoires\n",
    "- **`re`** : Expressions régulières pour le traitement de texte"
   ]
  }
 ],
 "metadata": {
  "kernelspec": {
   "display_name": "mon_env",
   "language": "python",
   "name": "python3"
  },
  "language_info": {
   "codemirror_mode": {
    "name": "ipython",
    "version": 3
   },
   "file_extension": ".py",
   "mimetype": "text/x-python",
   "name": "python",
   "nbconvert_exporter": "python",
   "pygments_lexer": "ipython3",
   "version": "3.12.0"
  }
 },
 "nbformat": 4,
 "nbformat_minor": 5
}
