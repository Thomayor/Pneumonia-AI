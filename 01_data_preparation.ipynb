{
 "cells": [
  {
   "cell_type": "markdown",
   "metadata": {},
   "source": [
    "# Préparation des données pour la classification d'images de radiographie pulmonaire\n",
    "\n",
    "Dans ce notebook, nous allons préparer les données pour notre projet de classification d'images médicales, en particulier des radiographies pulmonaires normales et avec pneumonie.\n"
   ]
  },
  {
   "cell_type": "markdown",
   "metadata": {},
   "source": [
    "# 📓 Notebook 1 – ÉTAPE 1 : Charger les images NORMAL et PNEUMONIA                                                                                                                                             \n",
    "📌 Objectif de cette étape  \n",
    "\n",
    "🔍 Vérifier combien d’images sont présentes de chest_Xray, pour évaluer l’équilibre des classes (NORMAL vs PNEUMONIA) dans chaque split (train, val, test)."
   ]
  },
  {
   "cell_type": "markdown",
   "metadata": {},
   "source": [
    "# 1.Imports et définition des chemins\n"
   ]
  },
  {
   "cell_type": "code",
   "execution_count": 13,
   "metadata": {},
   "outputs": [],
   "source": [
    "import os\n",
    "from pathlib import Path\n",
    "import random\n",
    "import shutil\n",
    "from PIL import Image\n",
    "import matplotlib.pyplot as plt\n",
    "\n",
    "# Chemin vers le dossier d'origine\n",
    "original_dir = Path(\"chest_Xray\")\n",
    "\n",
    "# Dictionnaire pour stocker les images\n",
    "all_images = {\n",
    "    \"NORMAL\": [],\n",
    "    \"PNEUMONIA\": []\n",
    "}\n",
    "\n",
    "# Parcours tous les sous-dossiers (train, val, test)\n",
    "for split in [\"train\", \"val\", \"test\"]:\n",
    "    for cls in [\"NORMAL\", \"PNEUMONIA\"]:\n",
    "        folder = original_dir / split / cls\n",
    "        images = list(folder.glob(\"*\"))\n",
    "        all_images[cls].extend(images)\n",
    "\n",
    "# Afficher le total brut par classe\n",
    "for cls in [\"NORMAL\", \"PNEUMONIA\"]:\n",
    "    print(f\"{cls}: {len(all_images[cls])} images\")\n"
   ]
  },
  {
   "cell_type": "code",
   "execution_count": 23,
   "metadata": {},
   "outputs": [
    {
     "name": "stdout",
     "output_type": "stream",
     "text": [
      "NORMAL: 1583 images\n",
      "PNEUMONIA: 4275 images\n"
     ]
    }
   ],
   "source": [
    "# Dictionnaire pour stocker les images\n",
    "all_images = {\n",
    "    \"NORMAL\": [],\n",
    "    \"PNEUMONIA\": []\n",
    "}\n",
    "\n",
    "# Parcours tous les sous-dossiers (train, val, test)\n",
    "for split in [\"train\", \"val\", \"test\"]:\n",
    "    for cls in [\"NORMAL\", \"PNEUMONIA\"]:\n",
    "        folder = original_dir / split / cls\n",
    "        images = list(folder.glob(\"*\"))\n",
    "        all_images[cls].extend(images)\n",
    "\n",
    "# Afficher le total brut par classe\n",
    "for cls in [\"NORMAL\", \"PNEUMONIA\"]:\n",
    "    print(f\"{cls}: {len(all_images[cls])} images\")\n"
   ]
  },
  {
   "cell_type": "markdown",
   "metadata": {},
   "source": [
    "On voit clairement que nous avons plus de scanners de pneumonies que de scanners avec des poumons sains. Il faut rééquilibrer les scanners sans pneumonie."
   ]
  },
  {
   "cell_type": "markdown",
   "metadata": {},
   "source": [
    "# 🧾 ÉTAPE 2 : Data Augmentation pour NORMAL\n",
    "🎯 Objectif :\n",
    "\n",
    "On a 1585 images NORMAL\n",
    "\n",
    "On veut atteindre 3500\n",
    "\n",
    "Il faut donc générer 1915 images augmentées\n",
    "\n"
   ]
  },
  {
   "cell_type": "markdown",
   "metadata": {},
   "source": [
    "# 📦 Étape 2.1 — Créer la fonction d’augmentation avec les types associés"
   ]
  },
  {
   "cell_type": "markdown",
   "metadata": {},
   "source": [
    "Comme on ne peut pas \"inventer\" de nouvelles vraies images, on utilise la Data Augmentation :\n",
    "Cela consiste à appliquer des transformations simples à des images existantes pour en créer de nouvelles variantes réalistes.\n",
    "\n",
    "🧰 Voici les types d’augmentations qu’on utilise :\n",
    "\n",
    "flip :\tMiroir horizontal (image retournée gauche ↔ droite)  \n",
    "\n",
    "rotate10\t: Rotation de l'image de +10°  \n",
    "\n",
    "rotate-10 :\tRotation de l'image de -10°  \n",
    "\n",
    "zoom\t: On découpe une région centrale (90%) puis on la redimensionne à la taille originale (effet zoom)  \n",
    "\n",
    "shift : \tOn décale l'image vers la droite et le bas  \n",
    "\n",
    "brightness :\tOn augmente la luminosité (effet éclaircissement)\n",
    "\n"
   ]
  },
  {
   "cell_type": "code",
   "execution_count": 24,
   "metadata": {},
   "outputs": [
    {
     "name": "stdout",
     "output_type": "stream",
     "text": [
      "✅ 1917 images augmentées créées dans augmented/NORMAL\n"
     ]
    }
   ],
   "source": [
    "from pathlib import Path\n",
    "from PIL import Image, ImageEnhance\n",
    "import random\n",
    "\n",
    "def augment_image(image: Image.Image, aug_type: str) -> Image.Image:\n",
    "    if aug_type == 'flip':\n",
    "        return image.transpose(Image.FLIP_LEFT_RIGHT)\n",
    "    elif aug_type == 'rotate10':\n",
    "        return image.rotate(10)\n",
    "    elif aug_type == 'rotate-10':\n",
    "        return image.rotate(-10)\n",
    "    elif aug_type == 'zoom':\n",
    "        w, h = image.size\n",
    "        crop = image.crop((w*0.1, h*0.1, w*0.9, h*0.9))  # zoom center\n",
    "        return crop.resize((w, h))\n",
    "    elif aug_type == 'shift':\n",
    "        return image.transform(image.size, Image.AFFINE, (1, 0, 10, 0, 1, 10))\n",
    "    elif aug_type == 'brightness':\n",
    "        enhancer = ImageEnhance.Brightness(image)\n",
    "        return enhancer.enhance(1.5)\n",
    "    else:\n",
    "        return image\n",
    "\n",
    "# Dossier de sauvegarde\n",
    "augmented_normal_dir = Path(\"augmented/NORMAL\")\n",
    "augmented_normal_dir.mkdir(parents=True, exist_ok=True)\n",
    "\n",
    "# Liste des images originales\n",
    "normal_images = [img for img in all_images[\"NORMAL\"] if img.suffix.lower() in [\".jpg\", \".jpeg\", \".png\"]]\n",
    "random.shuffle(normal_images)\n",
    "\n",
    "aug_types = ['flip', 'rotate10', 'rotate-10', 'zoom', 'shift', 'brightness']\n",
    "needed = 3500 - len(normal_images)\n",
    "generated = 0\n",
    "idx = 0\n",
    "\n",
    "while generated < needed:\n",
    "    img_path = normal_images[idx % len(normal_images)]\n",
    "    try:\n",
    "        img = Image.open(img_path).convert(\"RGB\")\n",
    "        aug_type = random.choice(aug_types)\n",
    "        aug_img = augment_image(img, aug_type)\n",
    "        save_path = augmented_normal_dir / f\"aug_{generated}_{aug_type}_{img_path.name}\"\n",
    "        aug_img.save(save_path)\n",
    "        generated += 1\n",
    "    except Exception as e:\n",
    "        print(f\"❌ Erreur avec {img_path.name} : {e}\")\n",
    "    idx += 1\n",
    "\n",
    "print(f\"✅ {generated} images augmentées créées dans {augmented_normal_dir}\")\n"
   ]
  },
  {
   "cell_type": "markdown",
   "metadata": {},
   "source": [
    "# 📦 Étape 2.2 — Préparer les 3500 images de chaque classe  \n",
    "\n",
    "NORMAL : 1585 originales + 1915 augmentées = 3500\n",
    "\n",
    "PNEUMONIA : on prend un échantillon aléatoire de 3500 images"
   ]
  },
  {
   "cell_type": "code",
   "execution_count": 29,
   "metadata": {},
   "outputs": [],
   "source": [
    "# On rassemble toutes les images NORMAL (originales + augmentées)\n",
    "normal_src = Path(\"augmented/NORMAL\")\n",
    "normal_imgs = list(normal_src.glob(\"*\"))\n",
    "# On ajoute les originales si tu veux les garder aussi dans le split final\n",
    "normal_imgs += [img for img in all_images[\"NORMAL\"] if img.suffix.lower() in [\".jpg\", \".jpeg\", \".png\"]]\n",
    "normal_imgs = normal_imgs[:3500]  # On s'arrête à 3500\n",
    "\n",
    "# Pour PNEUMONIA : on prend 3500 images au hasard dans all_images[\"PNEUMONIA\"]\n",
    "pneumonia_imgs = [img for img in all_images[\"PNEUMONIA\"] if img.suffix.lower() in [\".jpg\", \".jpeg\", \".png\"]]\n",
    "random.shuffle(pneumonia_imgs)\n",
    "pneumonia_imgs = pneumonia_imgs[:3500]\n"
   ]
  },
  {
   "cell_type": "markdown",
   "metadata": {},
   "source": [
    "# 🧩 Étape 3 : Création du dataset équilibré dataset/train, dataset/val, dataset/test    \n",
    "  \n",
    "  🎯 Objectif :\n",
    "Répartir 3 500 images de chaque classe (soit 7 000 images au total) comme suit :  \n",
    "\n",
    "| Split | Pourcentage | Normal | Pneumonia | Total |\n",
    "| ----- | ----------- | ------ | --------- | ----- |\n",
    "| Train | 70%         | 2 450  | 2 450     | 4 900 |\n",
    "| Val   | 15%         | 525    | 525       | 1 050 |\n",
    "| Test  | 15%         | 525    | 525       | 1 050 |\n",
    "\n"
   ]
  },
  {
   "cell_type": "code",
   "execution_count": 32,
   "metadata": {},
   "outputs": [],
   "source": [
    "import shutil\n",
    "\n",
    "target_root = Path(\"dataset\")\n",
    "splits = [\"train\", \"val\", \"test\"]\n",
    "classes = [\"NORMAL\", \"PNEUMONIA\"]\n",
    "\n",
    "# Créer les dossiers si besoin\n",
    "for split in splits:\n",
    "    for cls in classes:\n",
    "        (target_root / split / cls).mkdir(parents=True, exist_ok=True)\n",
    "\n",
    "def split_and_copy(img_list, cls_name):\n",
    "    train_count = 2450\n",
    "    val_count = 525\n",
    "    test_count = 525\n",
    "\n",
    "    random.shuffle(img_list)\n",
    "    train_imgs = img_list[:train_count]\n",
    "    val_imgs = img_list[train_count:train_count + val_count]\n",
    "    test_imgs = img_list[train_count + val_count:train_count + val_count + test_count]\n",
    "\n",
    "    for img in train_imgs:\n",
    "        shutil.copy(img, target_root / \"train\" / cls_name / img.name)\n",
    "    for img in val_imgs:\n",
    "        shutil.copy(img, target_root / \"val\" / cls_name / img.name)\n",
    "    for img in test_imgs:\n",
    "        shutil.copy(img, target_root / \"test\" / cls_name / img.name)\n",
    "\n",
    "split_and_copy(normal_imgs, \"NORMAL\")\n",
    "split_and_copy(pneumonia_imgs, \"PNEUMONIA\")\n"
   ]
  },
  {
   "cell_type": "code",
   "execution_count": 34,
   "metadata": {},
   "outputs": [
    {
     "name": "stdout",
     "output_type": "stream",
     "text": [
      "| Split | Pourcentage | Normal | Pneumonia | Total |\n",
      "|-------|-------------|--------|-----------|-------|\n",
      "| Train |      70.0% |   2450 |      2450 |  4900 |\n",
      "| Val   |      15.0% |    525 |       525 |  1050 |\n",
      "| Test  |      15.0% |    525 |       525 |  1050 |\n",
      "| Total |   100.0%    |   3500 |      3500 |  7000 |\n"
     ]
    }
   ],
   "source": [
    "from pathlib import Path\n",
    "\n",
    "target_root = Path(\"dataset\")\n",
    "splits = [\"train\", \"val\", \"test\"]\n",
    "classes = [\"NORMAL\", \"PNEUMONIA\"]\n",
    "\n",
    "# Comptage\n",
    "counts = {split: {cls: 0 for cls in classes} for split in splits}\n",
    "for split in splits:\n",
    "    for cls in classes:\n",
    "        folder = target_root / split / cls\n",
    "        counts[split][cls] = len(list(folder.glob(\"*\")))\n",
    "\n",
    "# Affichage du tableau\n",
    "print(\"| Split | Pourcentage | Normal | Pneumonia | Total |\")\n",
    "print(\"|-------|-------------|--------|-----------|-------|\")\n",
    "total_all = 0\n",
    "for split in splits:\n",
    "    split_total = counts[split][\"NORMAL\"] + counts[split][\"PNEUMONIA\"]\n",
    "    percent = 100 * split_total / 7000\n",
    "    print(f\"| {split.capitalize():5} | {percent:9.1f}% | {counts[split]['NORMAL']:6} | {counts[split]['PNEUMONIA']:9} | {split_total:5} |\")\n",
    "    total_all += split_total\n",
    "print(f\"| Total |   100.0%    | {sum(counts[s]['NORMAL'] for s in splits):6} | {sum(counts[s]['PNEUMONIA'] for s in splits):9} | {total_all:5} |\")\n"
   ]
  },
  {
   "cell_type": "markdown",
   "metadata": {},
   "source": [
    "\n",
    "# 📈 4. Affichage graphique avec Matplotlib\n",
    "\n"
   ]
  },
  {
   "cell_type": "code",
   "execution_count": 35,
   "metadata": {},
   "outputs": [
    {
     "data": {
      "image/png": "[encoded data removed]",
      "text/plain": [
       "<Figure size 800x500 with 1 Axes>"
      ]
     },
     "metadata": {},
     "output_type": "display_data"
    }
   ],
   "source": [
    "import matplotlib.pyplot as plt\n",
    "import numpy as np\n",
    "\n",
    "labels = [\"Train\", \"Val\", \"Test\"]\n",
    "normal_counts = [counts[split][\"NORMAL\"] for split in splits]\n",
    "pneumonia_counts = [counts[split][\"PNEUMONIA\"] for split in splits]\n",
    "\n",
    "x = np.arange(len(labels))\n",
    "width = 0.35\n",
    "\n",
    "fig, ax = plt.subplots(figsize=(8,5))\n",
    "rects1 = ax.bar(x - width/2, normal_counts, width, label='NORMAL')\n",
    "rects2 = ax.bar(x + width/2, pneumonia_counts, width, label='PNEUMONIA')\n",
    "\n",
    "ax.set_ylabel(\"Nombre d'images\")\n",
    "ax.set_title(\"Répartition des images par split et par classe\")\n",
    "ax.set_xticks(x)\n",
    "ax.set_xticklabels(labels)\n",
    "ax.legend()\n",
    "\n",
    "def autolabel(rects):\n",
    "    for rect in rects:\n",
    "        height = rect.get_height()\n",
    "        ax.annotate(f'{height}',\n",
    "                    xy=(rect.get_x() + rect.get_width() / 2, height),\n",
    "                    xytext=(0,3),  # décalage vertical\n",
    "                    textcoords=\"offset points\",\n",
    "                    ha='center', va='bottom')\n",
    "\n",
    "autolabel(rects1)\n",
    "autolabel(rects2)\n",
    "\n",
    "plt.tight_layout()\n",
    "plt.show()\n"
   ]
  },
  {
   "cell_type": "markdown",
   "metadata": {},
   "source": [
    "# 🧾 Synthèse - Préparation des données (Notebook 1)\n",
    "🔎 Synthèse de la préparation du dataset\n",
    "1. Constat initial\n",
    "Déséquilibre des classes :\n",
    "\n",
    "1585 images NORMAL\n",
    "\n",
    "4275 images PNEUMONIA\n",
    "\n",
    "2. Data Augmentation\n",
    "Objectif : Atteindre 3500 images NORMAL pour équilibrer avec PNEUMONIA.\n",
    "\n",
    "Méthode : Génération de 1915 images augmentées à partir des images NORMAL originales (flip, rotations, zoom, shift, brightness, etc.).\n",
    "\n",
    "Résultat :\n",
    "\n",
    "1585 images originales + 1915 images augmentées = 3500 images NORMAL\n",
    "\n",
    "3. Équilibrage de PNEUMONIA\n",
    "Sélection : Échantillonnage aléatoire de 3500 images PNEUMONIA pour équilibrer avec NORMAL.\n",
    "\n",
    "4. Split du dataset\n",
    "Répartition :\n",
    "\n",
    "Train : 70% (2450 images par classe)\n",
    "\n",
    "Validation : 15% (525 images par classe)\n",
    "\n",
    "Test : 15% (525 images par classe)\n",
    "\n",
    "Total :\n",
    "\n",
    "2450 + 525 + 525 = 3500 images par classe\n",
    "\n",
    "7000 images au total\n",
    "\n",
    "5. Vérification & Visualisation\n",
    "Comptage : Le code vérifie le nombre d’images dans chaque split et chaque classe.\n",
    "\n",
    "Affichage graphique : Un graphique à barres (Matplotlib) montre la répartition parfaite 70/15/15 pour chaque classe.\n",
    "\n",
    "Tableau attendu :\n",
    "Split\tPourcentage\tNormal\tPneumonia\tTotal\n",
    "Train\t70%\t2450\t2450\t4900\n",
    "Val\t15%\t525\t525\t1050\n",
    "Test\t15%\t525\t525\t1050\n",
    "Total\t100%\t3500\t3500\t7000\n",
    "Le graphique confirme l’équilibre parfait entre les classes et les splits.\n",
    "\n",
    "Conclusion\n",
    "Le dataset est désormais équilibré et prêt à l’emploi pour l’entraînement d’un modèle IA fiable en classification d’images pulmonaires.\n",
    "\n",
    "Toutes les étapes sont reproductibles et vérifiables (comptage + graphique).\n",
    "\n"
   ]
  }
 ],
 "metadata": {
  "kernelspec": {
   "display_name": ".venv",
   "language": "python",
   "name": "python3"
  },
  "language_info": {
   "codemirror_mode": {
    "name": "ipython",
    "version": 3
   },
   "file_extension": ".py",
   "mimetype": "text/x-python",
   "name": "python",
   "nbconvert_exporter": "python",
   "pygments_lexer": "ipython3",
   "version": "3.10.12"
  }
 },
 "nbformat": 4,
 "nbformat_minor": 2
}
