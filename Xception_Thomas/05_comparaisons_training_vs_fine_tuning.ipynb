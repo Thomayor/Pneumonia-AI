{
 "cells": [
  {
   "cell_type": "markdown",
   "id": "d70cdf48",
   "metadata": {},
   "source": [
    "# 📊 Comparaison des Modèles : Classique vs Fine-Tuning\n",
    "## ⚙️ 1. Performance sur l'entraînement et la validation\n",
    "Critère\tModèle Classique\tModèle Fine-Tuning\n",
    "Précision (train)\tJusqu’à 0.967\tJusqu’à 0.983\n",
    "Précision (validation)\tStable autour de 0.963\tStable entre 0.963–0.967\n",
    "Perte (train)\tEn baisse constante\tEn baisse plus marquée\n",
    "Perte (validation)\tStable autour de 0.121\tStable mais très légèrement plus basse vers la fin\n",
    "\n",
    "# 🧠 Analyse :\n",
    "\n",
    "Le fine-tuning apprend plus rapidement et efficacement sur le jeu d'entraînement.\n",
    "\n",
    "En validation, les deux modèles sont proches, mais le fine-tuning montre un léger avantage.\n",
    "\n",
    "Le fine-tuning montre un petit risque d’overfitting après l’époque 9.\n",
    "\n",
    "## 📉 2. Matrices de confusion (jeu de test)\n",
    "🔸 Modèle Classique\n",
    "Prédit NORMAL\tPrédit PNEUMONIA\n",
    "Réel : NORMAL\t495\t30\n",
    "Réel : PNEUMONIA\t35\t490\n",
    "\n",
    "🔹 Modèle Fine-Tuning\n",
    "Prédit NORMAL\tPrédit PNEUMONIA\n",
    "Réel : NORMAL\t500\t25\n",
    "Réel : PNEUMONIA\t27\t498\n",
    "\n",
    "# 🔍 Interprétation :\n",
    "\n",
    "Le fine-tuning améliore la classification pour les deux classes.\n",
    "\n",
    "Réduction des erreurs totales de 65 à 52 → soit environ 20% d'amélioration.\n",
    "\n",
    "## 📈 3. Courbes ROC et AUC\n",
    "Critère\tModèle Classique\tModèle Fine-Tuning\n",
    "AUC\t0.98\t0.99\n",
    "\n",
    "# 🎯 Interprétation :\n",
    "\n",
    "Les deux modèles sont excellents (AUC proche de 1).\n",
    "\n",
    "Le fine-tuning montre une meilleure capacité de discrimination entre les classes.\n",
    "\n",
    "## ✅ Conclusion Finale – Quel modèle choisir ?\n",
    "\n",
    "Privilégier le modèle fine-tuning, avec early stopping à l’époque 8 ou 9.\n",
    "\n",
    "Le modèle classique reste robuste, mais le fine-tuning propose de meilleures performances globales.\n",
    "\n"
   ]
  }
 ],
 "metadata": {
  "kernelspec": {
   "display_name": "Python 3",
   "language": "python",
   "name": "python3"
  },
  "language_info": {
   "codemirror_mode": {
    "name": "ipython",
    "version": 3
   },
   "file_extension": ".py",
   "mimetype": "text/x-python",
   "name": "python",
   "nbconvert_exporter": "python",
   "pygments_lexer": "ipython3",
   "version": "3.12.4"
  }
 },
 "nbformat": 4,
 "nbformat_minor": 5
}
